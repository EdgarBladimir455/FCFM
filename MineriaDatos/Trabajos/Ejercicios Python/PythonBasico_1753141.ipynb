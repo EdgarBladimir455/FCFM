{
 "cells": [
  {
   "cell_type": "markdown",
   "metadata": {},
   "source": [
    "## Ejercicio 1:\n",
    "Realiza una variable con tu matricula y realiza una secuencia de imprimir con tu nombre y tu matricula concatenados."
   ]
  },
  {
   "cell_type": "code",
   "execution_count": 2,
   "metadata": {},
   "outputs": [
    {
     "name": "stdout",
     "output_type": "stream",
     "text": [
      "Edgar Bladimir Lopez Alonzo 1753141\n"
     ]
    }
   ],
   "source": [
    "matricula = 1753141\n",
    "nombre = 'Edgar Bladimir Lopez Alonzo'\n",
    "print(nombre, matricula)"
   ]
  },
  {
   "cell_type": "markdown",
   "metadata": {},
   "source": [
    "## Ejercicio 2:\n",
    "Pidiendo el input del usuario pide dos números y crea una pequeña calculadora con los operadores básicos de suma, resta, multiplicación, división, y exponente."
   ]
  },
  {
   "cell_type": "code",
   "execution_count": 51,
   "metadata": {},
   "outputs": [
    {
     "name": "stdin",
     "output_type": "stream",
     "text": [
      "Número 1:  12.6\n",
      "Número 2: 4\n",
      "Operación (+, -, *, /, **):  /\n"
     ]
    },
    {
     "name": "stdout",
     "output_type": "stream",
     "text": [
      "Resultado: 3.15\n"
     ]
    }
   ],
   "source": [
    "def aplicar_operacion(operador, numero1, numero2):\n",
    "    resultado = 0\n",
    "    try:\n",
    "        resultado = {\n",
    "            '+': numero1 + numero2,\n",
    "            '-': numero1 - numero2,\n",
    "            '*': numero1 * numero2,\n",
    "            '/': numero1 / numero2,\n",
    "            '**': numero1 ** numero2\n",
    "        }[operador]\n",
    "    except:\n",
    "        print('Error')\n",
    "    \n",
    "    return resultado\n",
    "\n",
    "numero1 = float(input('Número 1: '))\n",
    "numero2 = float(input('Número 2:'))\n",
    "\n",
    "operadores = ['+', '-', '*', '/', '**']\n",
    "operacion = ''\n",
    "\n",
    "while operacion not in operadores:    \n",
    "    operacion = input('Operación ({}): '.format('+, -, *, /, **'))\n",
    "    if operacion not in operadores:\n",
    "        print('\\nOperación no valida.')\n",
    "        \n",
    "print('Resultado:', aplicar_operacion(operacion, numero1, numero2))\n"
   ]
  },
  {
   "cell_type": "markdown",
   "metadata": {},
   "source": [
    "## Ejercicio 3:\n",
    "Con loop while o for, realiza una lista de 10 numeros multiplos de 3, y después realiza una función de loop que sume todos los números dentro del arreglo."
   ]
  },
  {
   "cell_type": "code",
   "execution_count": 33,
   "metadata": {},
   "outputs": [
    {
     "name": "stdout",
     "output_type": "stream",
     "text": [
      "Lista de numeros [3, 6, 9, 12, 15, 18, 21, 24, 27, 30]\n",
      "Sumatoria:  165\n"
     ]
    }
   ],
   "source": [
    "def sumar_numeros(listaNumeros):\n",
    "    resultado = 0\n",
    "    for numero in listaNumeros:\n",
    "        resultado += numero\n",
    "        \n",
    "    return resultado\n",
    "\n",
    "listaNumeros = list(range(3, 33, 3))\n",
    "print('Lista de numeros', listaNumeros)\n",
    "print('Sumatoria: ', sumar_numeros(listaNumeros))"
   ]
  },
  {
   "cell_type": "markdown",
   "metadata": {},
   "source": [
    "## Ejercicio 4\n",
    "Con una función de if else, revisar si un número es par o es impar.\n",
    "Con una función de if else, revisar si un número es primo o no."
   ]
  },
  {
   "cell_type": "code",
   "execution_count": 44,
   "metadata": {},
   "outputs": [
    {
     "name": "stdin",
     "output_type": "stream",
     "text": [
      "Ingrese un numero 7\n"
     ]
    },
    {
     "name": "stdout",
     "output_type": "stream",
     "text": [
      "7 Si es primo\n",
      "7 No es par\n"
     ]
    }
   ],
   "source": [
    "def es_primo(numero):\n",
    "    if numero > 1:  \n",
    "        for i in range(2, numero):  \n",
    "            if (numero % i) == 0:  \n",
    "                return 'No'\n",
    "                break  \n",
    "        else:\n",
    "            return 'Si'\n",
    "    else:\n",
    "        return 'No'\n",
    "    \n",
    "def es_par(numero):\n",
    "    if (numero % 2) == 0:\n",
    "        return 'Si'\n",
    "    else: \n",
    "        return 'No'\n",
    "    \n",
    "numero = int(input('Ingrese un numero'))\n",
    "\n",
    "print(numero, es_primo(numero), 'es primo')\n",
    "print(numero, es_par(numero), 'es par')\n",
    "\n"
   ]
  },
  {
   "cell_type": "markdown",
   "metadata": {},
   "source": [
    "## Ejercicio 5\n",
    "Utilizando diferentes clases en python, crea una calculadora con los operadores básicos de suma, resta, multiplicación, división, y exponente."
   ]
  },
  {
   "cell_type": "code",
   "execution_count": 59,
   "metadata": {},
   "outputs": [
    {
     "name": "stdin",
     "output_type": "stream",
     "text": [
      "Ingrese el primer número:  3\n",
      "Ingrese el segundo número:  3\n",
      "Operación (+, -, *, /, **):  **\n"
     ]
    },
    {
     "name": "stdout",
     "output_type": "stream",
     "text": [
      "Resultado: 27.0\n"
     ]
    }
   ],
   "source": [
    "class Calculadora:\n",
    "    numero1 = 0\n",
    "    numero2 = 0\n",
    "    \n",
    "    def __init__(self, numero1, numero2):\n",
    "        self.numero1 = numero1\n",
    "        self.numero2 = numero2\n",
    "        \n",
    "    def sumar(self):\n",
    "        return self.numero1 + self.numero2\n",
    "    \n",
    "    def restar(self):\n",
    "        return self.numero1 - self.numero2\n",
    "    \n",
    "    def multiplicar(self):\n",
    "        return self.numero1 * self.numero2\n",
    "    \n",
    "    def dividir(self):\n",
    "        return self.numero1 / self.numero2\n",
    "    \n",
    "    def exponenciar(self):\n",
    "        return self.numero1 ** self.numero2\n",
    "\n",
    "numero1 = ''\n",
    "numero2 = ''\n",
    "while isinstance(numero1, str):\n",
    "    try:        \n",
    "        numero1 = float(input('Ingrese el primer número: '))\n",
    "    except:\n",
    "        print('\\nNo es un número valido.')\n",
    "        \n",
    "while isinstance(numero2, str):\n",
    "    try:        \n",
    "        numero2 = float(input('Ingrese el segundo número: '))\n",
    "    except:\n",
    "        print('\\nNo es un número válido.')        \n",
    "\n",
    "calculadora = Calculadora(numero1, numero2)\n",
    "operadores = ['+', '-', '*', '/', '**']\n",
    "operacion = ''\n",
    "while operacion not in operadores:    \n",
    "    operacion = input('Operación ({}): '.format('+, -, *, /, **'))\n",
    "    if operacion not in operadores:\n",
    "        print('\\nOperación no valida.')\n",
    "\n",
    "try:\n",
    "    resultado = {\n",
    "            '+': calculadora.sumar(),\n",
    "            '-': calculadora.restar(),\n",
    "            '*': calculadora.multiplicar(),\n",
    "            '/': calculadora.dividir(),\n",
    "            '**': calculadora.exponenciar()\n",
    "    }[operacion]\n",
    "    \n",
    "    print('Resultado:', resultado)\n",
    "except:\n",
    "    print('Error al aplicar la operación')"
   ]
  },
  {
   "cell_type": "markdown",
   "metadata": {},
   "source": [
    "## Ejercicios con estructuras básicas de python."
   ]
  },
  {
   "cell_type": "markdown",
   "metadata": {},
   "source": [
    "## Tuplas"
   ]
  },
  {
   "cell_type": "markdown",
   "metadata": {},
   "source": [
    "* Crear una variable flotante, integer, boleana y compleja e imprimir el tipo de variable que es."
   ]
  },
  {
   "cell_type": "code",
   "execution_count": 62,
   "metadata": {},
   "outputs": [
    {
     "name": "stdout",
     "output_type": "stream",
     "text": [
      "Tipo flotante: <class 'float'>\n",
      "Tipo booleana: <class 'bool'>\n",
      "Tipo complejo: <class 'complex'>\n"
     ]
    }
   ],
   "source": [
    "varFlotante = 90.99\n",
    "varBooleana = True\n",
    "varCompleja = complex(1, 10)\n",
    "\n",
    "print('Tipo flotante:', type(varFlotante))\n",
    "print('Tipo booleana:', type(varBooleana))\n",
    "print('Tipo complejo:', type(varCompleja))"
   ]
  },
  {
   "cell_type": "markdown",
   "metadata": {},
   "source": [
    "* Crear una tupla con valores enteros imprimir el primer y ultimo valor."
   ]
  },
  {
   "cell_type": "code",
   "execution_count": 65,
   "metadata": {},
   "outputs": [
    {
     "name": "stdout",
     "output_type": "stream",
     "text": [
      "Valor inicial: 1\n",
      "Valor final: c\n"
     ]
    }
   ],
   "source": [
    "tupla = (1, 2, 3, 'a', 'b', 'c')\n",
    "\n",
    "print('Valor inicial:', tupla[0])\n",
    "print('Valor final:', tupla[-1])"
   ]
  },
  {
   "cell_type": "markdown",
   "metadata": {},
   "source": [
    "* Añadir 3 valores de string a la tupla."
   ]
  },
  {
   "cell_type": "code",
   "execution_count": 71,
   "metadata": {},
   "outputs": [
    {
     "name": "stdout",
     "output_type": "stream",
     "text": [
      "Tupla inicial: (1, 2, 3, 'a', 'b', 'c')\n",
      "Tupla modificada: (1, 2, 3, 'a', 'b', 'c', 'valorAgregado')\n"
     ]
    }
   ],
   "source": [
    "tupla = (1, 2, 3, 'a', 'b', 'c')\n",
    "print('Tupla inicial:', tupla)\n",
    "\n",
    "tupla = tupla + ('valorAgregado', )\n",
    "print('Tupla modificada:', tupla)"
   ]
  },
  {
   "cell_type": "markdown",
   "metadata": {},
   "source": [
    "* Verificar si una variable existe dentro de la tupla."
   ]
  },
  {
   "cell_type": "code",
   "execution_count": 75,
   "metadata": {},
   "outputs": [
    {
     "name": "stdout",
     "output_type": "stream",
     "text": [
      "Tupla inicial: (1, 2, 3, 'a', 'b', 'c')\n",
      "El valor 9 existe en la tupla: False\n",
      "El valor a existe en la tupla: True\n"
     ]
    }
   ],
   "source": [
    "tupla = (1, 2, 3, 'a', 'b', 'c')\n",
    "valorBuscado = 9\n",
    "otroValorBuscado = 'a'\n",
    "\n",
    "print('Tupla inicial:', tupla)\n",
    "print('El valor', valorBuscado, 'existe en la tupla:', valorBuscado in tupla)\n",
    "print('El valor', otroValorBuscado, 'existe en la tupla:', otroValorBuscado in tupla)"
   ]
  },
  {
   "cell_type": "markdown",
   "metadata": {},
   "source": [
    "## Listas"
   ]
  },
  {
   "cell_type": "markdown",
   "metadata": {},
   "source": [
    "* Crear una lista con 40 elementos aleatorios enteros."
   ]
  },
  {
   "cell_type": "code",
   "execution_count": 88,
   "metadata": {},
   "outputs": [
    {
     "name": "stdout",
     "output_type": "stream",
     "text": [
      "Lista de números aleatorios:\n",
      " [37, 11, 7, 16, 39, 3, 0, 25, 19, 24, 1, 32, 10, 23, 2, 34, 13, 27, 29, 30, 8, 14, 9, 26, 28, 22, 20, 5, 12, 17, 21, 33, 38, 35, 4, 18, 6, 31, 36, 15]\n"
     ]
    }
   ],
   "source": [
    "import random\n",
    "listaNumerosAleatorios = random.sample(range(0, 40), 40)\n",
    "print('Lista de números aleatorios:\\n', listaNumerosAleatorios)"
   ]
  },
  {
   "cell_type": "markdown",
   "metadata": {},
   "source": [
    "* Con una funcion (def) crear dos listas nuevas a partir de la lista creada por numeros aleatorios, en la cual en una esten los elementos pares, y en la otra los elementos impares."
   ]
  },
  {
   "cell_type": "code",
   "execution_count": 120,
   "metadata": {},
   "outputs": [
    {
     "name": "stdout",
     "output_type": "stream",
     "text": [
      "Lista de números aleatorios:\n",
      " [23, 38, 6, 17, 16, 21, 60, 3, 66, 34, 7, 25, 65, 70, 53, 50, 77, 80, 74, 43, 32, 76, 61, 51, 58, 81, 1, 63, 42, 59, 47, 75, 49, 20, 52, 54, 71, 18, 5, 79] \n",
      "\n",
      "Lista de números pares:\n",
      " [38, 6, 16, 60, 66, 34, 70, 50, 80, 74, 32, 76, 58, 42, 20, 52, 54, 18] \n",
      "\n",
      "Lista de números impares:\n",
      " [23, 17, 21, 3, 7, 25, 65, 53, 77, 43, 61, 51, 81, 1, 63, 59, 47, 75, 49, 71, 5, 79]\n"
     ]
    }
   ],
   "source": [
    "import random\n",
    "\n",
    "def filtrar_pares_impares(listaNumeros):\n",
    "    listaNumerosPares = []\n",
    "    listaNumerosImpares = []\n",
    "    \n",
    "    for numero in listaNumeros:\n",
    "        if (numero % 2) == 0:\n",
    "            listaNumerosPares.append(numero)\n",
    "        else:\n",
    "            listaNumerosImpares.append(numero)\n",
    "    return listaNumerosPares, listaNumerosImpares\n",
    "\n",
    "listaNumerosAleatorios = random.sample(range(0, 82), 40)\n",
    "listaNumerosPares, listaNumerosImpares = filtrar_pares_impares(listaNumerosAleatorios)\n",
    "\n",
    "print('Lista de números aleatorios:\\n', listaNumerosAleatorios, '\\n')\n",
    "print('Lista de números pares:\\n', listaNumerosPares, '\\n')\n",
    "print('Lista de números impares:\\n', listaNumerosImpares)"
   ]
  },
  {
   "cell_type": "markdown",
   "metadata": {},
   "source": [
    "* Crear dos variables con la longitud de ambas listas nuevas e imprimir las variables."
   ]
  },
  {
   "cell_type": "code",
   "execution_count": 121,
   "metadata": {},
   "outputs": [
    {
     "name": "stdout",
     "output_type": "stream",
     "text": [
      "Longitud lista de pares: 18\n",
      "Longitud lista de impares: 22\n"
     ]
    }
   ],
   "source": [
    "longitudLista1 = len(listaNumerosPares)\n",
    "longitudLista2 = len(listaNumerosImpares)\n",
    "\n",
    "print('Longitud lista de pares:', longitudLista1)\n",
    "print('Longitud lista de impares:', longitudLista2)"
   ]
  },
  {
   "cell_type": "markdown",
   "metadata": {},
   "source": [
    "* Ordenar los elementos de la lista par de mayor a menor, y los de la lista impar de menor a mayor."
   ]
  },
  {
   "cell_type": "code",
   "execution_count": 122,
   "metadata": {},
   "outputs": [
    {
     "name": "stdout",
     "output_type": "stream",
     "text": [
      "Lista par de mayor a menor: [80, 76, 74, 70, 66, 60, 58, 54, 52, 50, 42, 38, 34, 32, 20, 18, 16, 6]\n",
      "Lista impar de menor a mayor: [1, 3, 5, 7, 17, 21, 23, 25, 43, 47, 49, 51, 53, 59, 61, 63, 65, 71, 75, 77, 79, 81]\n"
     ]
    }
   ],
   "source": [
    "listaNumerosPares.sort(reverse=True)\n",
    "listaNumerosImpares.sort()\n",
    "\n",
    "print('Lista par de mayor a menor:', listaNumerosPares)\n",
    "print('Lista impar de menor a mayor:', listaNumerosImpares)"
   ]
  },
  {
   "cell_type": "markdown",
   "metadata": {},
   "source": [
    "* Utilizar al menos cuatro de las funciones de listas en python en la lista original de 40 elementos."
   ]
  },
  {
   "cell_type": "code",
   "execution_count": 123,
   "metadata": {},
   "outputs": [
    {
     "name": "stdout",
     "output_type": "stream",
     "text": [
      "sort(): ordena los numeros de manera ASC [1, 3, 5, 6, 7, 16, 17, 18, 20, 21, 23, 25, 32, 34, 38, 42, 43, 47, 49, 50, 51, 52, 53, 54, 58, 59, 60, 61, 63, 65, 66, 70, 71, 74, 75, 76, 77, 79, 80, 81]\n",
      "\n",
      "index(x): busca el indice del valor especificado 26\n",
      "\n",
      "pop(n): elimina elemento del indice especificado [3, 5, 6, 7, 16, 17, 18, 20, 21, 23, 25, 32, 34, 38, 42, 43, 47, 49, 50, 51, 52, 53, 54, 58, 59, 60, 61, 63, 65, 66, 70, 71, 74, 75, 76, 77, 79, 80, 81]\n",
      "\n",
      "append(n): agrega el elmento especificado al final de la lista [3, 5, 6, 7, 16, 17, 18, 20, 21, 23, 25, 32, 34, 38, 42, 43, 47, 49, 50, 51, 52, 53, 54, 58, 59, 60, 61, 63, 65, 66, 70, 71, 74, 75, 76, 77, 79, 80, 81, 1753141]\n"
     ]
    }
   ],
   "source": [
    "listaNumerosAleatorios.sort()\n",
    "print('sort(): ordena los numeros de manera ASC', listaNumerosAleatorios)\n",
    "indiceNumeroEspecificado = listaNumerosAleatorios.index(60)\n",
    "print('\\nindex(x): busca el indice del valor especificado', indiceNumeroEspecificado)\n",
    "listaNumerosAleatorios.pop(0)\n",
    "print('\\npop(n): elimina elemento del indice especificado', listaNumerosAleatorios)\n",
    "listaNumerosAleatorios.append(1753141)\n",
    "print('\\nappend(n): agrega el elmento especificado al final de la lista', listaNumerosAleatorios)"
   ]
  },
  {
   "cell_type": "markdown",
   "metadata": {},
   "source": [
    "## Diccionarios"
   ]
  },
  {
   "cell_type": "markdown",
   "metadata": {},
   "source": [
    "* Crear un diccionario de 6 personas que conozcas con su primer nombre y su edad."
   ]
  },
  {
   "cell_type": "code",
   "execution_count": 129,
   "metadata": {},
   "outputs": [
    {
     "data": {
      "text/plain": [
       "{'edgar': {'edad': 21},\n",
       " 'mitzy': {'edad': 22},\n",
       " 'mario': {'edad': 27},\n",
       " 'jesus': {'edad': 31},\n",
       " 'laura': {'edad': 28},\n",
       " 'andrea': {'edad': 24}}"
      ]
     },
     "execution_count": 129,
     "metadata": {},
     "output_type": "execute_result"
    }
   ],
   "source": [
    "personas = {\n",
    "    'edgar': {\n",
    "        'edad': 21\n",
    "    },\n",
    "    'mitzy': {\n",
    "        'edad': 22\n",
    "    },\n",
    "    'mario': {\n",
    "        'edad': 27\n",
    "    },\n",
    "    'jesus': {\n",
    "        'edad': 31\n",
    "    },\n",
    "    'laura': {\n",
    "        'edad': 28\n",
    "    },\n",
    "    'andrea': {\n",
    "        'edad': 24\n",
    "    }\n",
    "}\n",
    "personas"
   ]
  },
  {
   "cell_type": "markdown",
   "metadata": {},
   "source": [
    "* Crear una lista con los valores de la edad y reacomodar la lista de menor a mayor valor."
   ]
  },
  {
   "cell_type": "code",
   "execution_count": 132,
   "metadata": {},
   "outputs": [
    {
     "data": {
      "text/plain": [
       "[21, 22, 24, 27, 28, 31]"
      ]
     },
     "execution_count": 132,
     "metadata": {},
     "output_type": "execute_result"
    }
   ],
   "source": [
    "listaEdades = []\n",
    "for nombre in personas.keys():\n",
    "    listaEdades.append(personas[nombre]['edad'])    \n",
    "listaEdades.sort()\n",
    "listaEdades"
   ]
  },
  {
   "cell_type": "markdown",
   "metadata": {},
   "source": [
    "* Usando el diccionario y un loop, imprimir solo los nombres."
   ]
  },
  {
   "cell_type": "code",
   "execution_count": 133,
   "metadata": {},
   "outputs": [
    {
     "name": "stdout",
     "output_type": "stream",
     "text": [
      "edgar\n",
      "mitzy\n",
      "mario\n",
      "jesus\n",
      "laura\n",
      "andrea\n"
     ]
    }
   ],
   "source": [
    "for nombre in personas.keys():\n",
    "    print(nombre)"
   ]
  },
  {
   "cell_type": "markdown",
   "metadata": {},
   "source": [
    "* Añadir dos personas nuevas a tu diccionario, incluyendo edad."
   ]
  },
  {
   "cell_type": "code",
   "execution_count": 135,
   "metadata": {},
   "outputs": [
    {
     "data": {
      "text/plain": [
       "{'edgar': {'edad': 21},\n",
       " 'mitzy': {'edad': 22},\n",
       " 'mario': {'edad': 27},\n",
       " 'jesus': {'edad': 31},\n",
       " 'laura': {'edad': 28},\n",
       " 'andrea': {'edad': 24},\n",
       " 'alfredo': {'edad': 23},\n",
       " 'erica': {'edad': 23}}"
      ]
     },
     "execution_count": 135,
     "metadata": {},
     "output_type": "execute_result"
    }
   ],
   "source": [
    "alfredo = {'alfredo':{\n",
    "    'edad': 23\n",
    "}}\n",
    "erica = {'erica':{\n",
    "    'edad': 23\n",
    "}}\n",
    "personas.update(alfredo)\n",
    "personas.update(erica)\n",
    "personas"
   ]
  },
  {
   "cell_type": "markdown",
   "metadata": {},
   "source": [
    "## Sets"
   ]
  },
  {
   "cell_type": "markdown",
   "metadata": {},
   "source": [
    "* Crea un set con 100 numeros aleatorios enteros del 1 al 25."
   ]
  },
  {
   "cell_type": "code",
   "execution_count": 162,
   "metadata": {},
   "outputs": [
    {
     "name": "stdout",
     "output_type": "stream",
     "text": [
      "[19, 8, 19, 4, 20, 22, 10, 9, 14, 5, 5, 22, 5, 10, 23, 22, 1, 18, 17, 18, 9, 5, 8, 14, 17, 18, 5, 9, 10, 14, 24, 13, 3, 12, 1, 16, 8, 16, 21, 3, 16, 10, 8, 17, 2, 5, 15, 3, 12, 18, 5, 21, 12, 24, 18, 2, 3, 1, 7, 24, 24, 1, 15, 7, 21, 17, 15, 16, 21, 23, 1, 7, 24, 2, 20, 8, 5, 21, 14, 6, 5, 18, 15, 10, 20, 1, 24, 2, 10, 2, 21, 2, 22, 8, 19, 13, 12, 16, 5, 10] \n",
      "\n",
      "{1, 2, 3, 4, 5, 6, 7, 8, 9, 10, 12, 13, 14, 15, 16, 17, 18, 19, 20, 21, 22, 23, 24} \n",
      "\n",
      "Los sets no pueden contener elementos duplicados\n"
     ]
    }
   ],
   "source": [
    "import random\n",
    "\n",
    "listaNumerosAleatorios = []\n",
    "for numero in range(0, 100):\n",
    "    n = random.randrange(1, 25)\n",
    "    listaNumerosAleatorios.append(n)\n",
    "print(listaNumerosAleatorios, '\\n')\n",
    "setNumerosAleatorios = set(listaNumerosAleatorios)\n",
    "print(setNumerosAleatorios, '\\n')\n",
    "print('Los sets no pueden contener elementos duplicados')"
   ]
  },
  {
   "cell_type": "markdown",
   "metadata": {},
   "source": [
    "* Comprueba la longitud de tu set."
   ]
  },
  {
   "cell_type": "code",
   "execution_count": 164,
   "metadata": {},
   "outputs": [
    {
     "name": "stdout",
     "output_type": "stream",
     "text": [
      "Longitud set: 23\n"
     ]
    }
   ],
   "source": [
    "print('Longitud set:', len(setNumerosAleatorios))"
   ]
  },
  {
   "cell_type": "markdown",
   "metadata": {},
   "source": [
    "* Crea una lista de 5 numeros aleatorios del 1 al 10 y comprueba si cada valor aparece en el set inicial."
   ]
  },
  {
   "cell_type": "code",
   "execution_count": 165,
   "metadata": {},
   "outputs": [
    {
     "name": "stdout",
     "output_type": "stream",
     "text": [
      "[6, 3, 1, 6, 6] \n",
      "\n",
      "{1, 2, 3, 4, 5, 6, 7, 8, 9, 10, 12, 13, 14, 15, 16, 17, 18, 19, 20, 21, 22, 23, 24} \n",
      "\n"
     ]
    }
   ],
   "source": [
    "import random\n",
    "\n",
    "listaNumerosAleatorios = []\n",
    "for numero in range(0, 5):\n",
    "    n = random.randrange(1, 10)\n",
    "    listaNumerosAleatorios.append(n)\n",
    "print(listaNumerosAleatorios, '\\n')\n",
    "print(setNumerosAleatorios, '\\n')"
   ]
  },
  {
   "cell_type": "markdown",
   "metadata": {},
   "source": [
    "Cada valor en efecto aparece en el set inicial ya que este toma los valores ordenados, con lo cual al menos del 1 al 10 seguro apareceran todos ya que es mayor a la longitud del set (23)"
   ]
  },
  {
   "cell_type": "code",
   "execution_count": null,
   "metadata": {},
   "outputs": [],
   "source": []
  }
 ],
 "metadata": {
  "kernelspec": {
   "display_name": "Python 3",
   "language": "python",
   "name": "python3"
  },
  "language_info": {
   "codemirror_mode": {
    "name": "ipython",
    "version": 3
   },
   "file_extension": ".py",
   "mimetype": "text/x-python",
   "name": "python",
   "nbconvert_exporter": "python",
   "pygments_lexer": "ipython3",
   "version": "3.8.3"
  }
 },
 "nbformat": 4,
 "nbformat_minor": 4
}
