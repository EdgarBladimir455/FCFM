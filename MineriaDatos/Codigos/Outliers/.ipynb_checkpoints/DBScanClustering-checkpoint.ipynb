{
 "cells": [
  {
   "cell_type": "code",
   "execution_count": 7,
   "metadata": {},
   "outputs": [
    {
     "name": "stdout",
     "output_type": "stream",
     "text": [
      "\u001b[95mNumero de posibles anomalias: \u001b[0m 94\n"
     ]
    }
   ],
   "source": [
    "import numpy as np\n",
    "from sklearn.cluster import DBSCAN\n",
    "np.random.seed(1)\n",
    "valoresAleatorios = np.random.randn(50000,2)  * 20 + 20\n",
    "\n",
    "outlierDetection = DBSCAN(min_samples = 2, eps = 3)\n",
    "clusters = outlierDetection.fit_predict(valoresAleatorios)\n",
    "numeroDePosiblesAnomalias = list(clusters).count(-1)\n",
    "print('\\033[95mNumero de posibles anomalias: \\033[0m', numeroDePosiblesAnomalias)"
   ]
  },
  {
   "cell_type": "code",
   "execution_count": null,
   "metadata": {},
   "outputs": [],
   "source": []
  }
 ],
 "metadata": {
  "kernelspec": {
   "display_name": "Python 3",
   "language": "python",
   "name": "python3"
  },
  "language_info": {
   "codemirror_mode": {
    "name": "ipython",
    "version": 3
   },
   "file_extension": ".py",
   "mimetype": "text/x-python",
   "name": "python",
   "nbconvert_exporter": "python",
   "pygments_lexer": "ipython3",
   "version": "3.8.3"
  }
 },
 "nbformat": 4,
 "nbformat_minor": 4
}
